{
  "nbformat": 4,
  "nbformat_minor": 0,
  "metadata": {
    "colab": {
      "name": "mnist_mlp.ipynb",
      "version": "0.3.2",
      "provenance": [],
      "include_colab_link": true
    },
    "kernelspec": {
      "name": "python3",
      "display_name": "Python 3"
    },
    "accelerator": "GPU"
  },
  "cells": [
    {
      "cell_type": "markdown",
      "metadata": {
        "id": "view-in-github",
        "colab_type": "text"
      },
      "source": [
        "<a href=\"https://colab.research.google.com/github/pushkarneo/MLP_tensorflow/blob/master/mnist_mlp.ipynb\" target=\"_parent\"><img src=\"https://colab.research.google.com/assets/colab-badge.svg\" alt=\"Open In Colab\"/></a>"
      ]
    },
    {
      "metadata": {
        "id": "oZu6zdWuB30R",
        "colab_type": "code",
        "colab": {}
      },
      "cell_type": "code",
      "source": [
        "import tensorflow as tf\n",
        "import numpy as np\n",
        "import pandas as pd\n",
        "import matplotlib.pyplot as plt"
      ],
      "execution_count": 0,
      "outputs": []
    },
    {
      "metadata": {
        "id": "ZnlvqW2FB9UP",
        "colab_type": "code",
        "colab": {}
      },
      "cell_type": "code",
      "source": [
        "mnist = tf.keras.datasets.mnist\n",
        "(x_train, y_train), (x_test, y_test) = mnist.load_data()"
      ],
      "execution_count": 0,
      "outputs": []
    },
    {
      "metadata": {
        "id": "QESivRWRp0wS",
        "colab_type": "code",
        "colab": {
          "base_uri": "https://localhost:8080/",
          "height": 34
        },
        "outputId": "25d98820-b5de-4453-88bc-d5e9ab7dd9b0"
      },
      "cell_type": "code",
      "source": [
        "np.argmax(y_train[5:])"
      ],
      "execution_count": 58,
      "outputs": [
        {
          "output_type": "execute_result",
          "data": {
            "text/plain": [
              "14"
            ]
          },
          "metadata": {
            "tags": []
          },
          "execution_count": 58
        }
      ]
    },
    {
      "metadata": {
        "id": "LXeun6HutVid",
        "colab_type": "code",
        "colab": {
          "base_uri": "https://localhost:8080/",
          "height": 34
        },
        "outputId": "51651306-8341-44ed-e7bd-7b91f2fb2d14"
      },
      "cell_type": "code",
      "source": [
        "y_train[19]"
      ],
      "execution_count": 60,
      "outputs": [
        {
          "output_type": "execute_result",
          "data": {
            "text/plain": [
              "9"
            ]
          },
          "metadata": {
            "tags": []
          },
          "execution_count": 60
        }
      ]
    },
    {
      "metadata": {
        "id": "8K0yDDasCh1b",
        "colab_type": "code",
        "colab": {}
      },
      "cell_type": "code",
      "source": [
        "X_train = x_train/250.0\n",
        "X_test = x_test/250.0"
      ],
      "execution_count": 0,
      "outputs": []
    },
    {
      "metadata": {
        "id": "Fm-Oc7-SCsWw",
        "colab_type": "code",
        "colab": {}
      },
      "cell_type": "code",
      "source": [
        "X_Train = np.reshape(X_train,(60000,-1)) \n",
        "X_Test = np.reshape(X_test,(10000,-1))"
      ],
      "execution_count": 0,
      "outputs": []
    },
    {
      "metadata": {
        "id": "GJcLAmFMGxwJ",
        "colab_type": "code",
        "colab": {}
      },
      "cell_type": "code",
      "source": [
        "classes = len(np.unique(y_train))\n",
        "features = np.shape(X_Train)[1]\n",
        "hidden_1 = 512\n",
        "hidden_2 = 512\n",
        "hidden_3 = 512 \n",
        "output = classes\n",
        "\n",
        "weights_1 = tf.Variable(tf.random.normal([features,hidden_1],0.0,0.1),name = 'weights_1')\n",
        "bias_1 = tf.Variable(tf.random.normal([hidden_1],0.0,0.1),name = 'bias_1')\n",
        "\n",
        "weights_2 = tf.Variable(tf.random.normal([hidden_1,hidden_2],0.0,0.1),name = 'weights_2')\n",
        "bias_2 = tf.Variable(tf.random.normal([hidden_2],0.0,0.1),name = 'bias_2')\n",
        "\n",
        "weights_3 = tf.Variable(tf.random.normal([hidden_2,hidden_3],0.0,0.1),name = 'weights_3')\n",
        "bias_3 = tf.Variable(tf.random.normal([hidden_3],0.0,0.1),name = 'bias_3')\n",
        "\n",
        "weights_4 = tf.Variable(tf.random.normal([hidden_3,output],0.0,0.1),name = 'weights_4')\n",
        "bias_4 = tf.Variable(tf.random.normal([output],0.0,0.1),name = 'bias_4')\n",
        "\n",
        "x = tf.placeholder(tf.float32,shape=(None,features))\n",
        "Y = tf.placeholder(tf.uint8,shape=(None))\n",
        "y = tf.one_hot(Y,output)\n",
        "a_1 = tf.nn.relu(tf.add(tf.matmul(x,weights_1),bias_1))\n",
        "a_2 = tf.nn.relu(tf.add(tf.matmul(a_1,weights_2),bias_2))\n",
        "a_3 = tf.nn.relu(tf.add(tf.matmul(a_2,weights_3),bias_3))\n",
        "a_4 = tf.add(tf.matmul(a_3,weights_4),bias_4)\n"
      ],
      "execution_count": 0,
      "outputs": []
    },
    {
      "metadata": {
        "id": "K3ZCXZ3PKPLP",
        "colab_type": "code",
        "colab": {
          "base_uri": "https://localhost:8080/",
          "height": 1717
        },
        "outputId": "774086b8-befc-4245-9c29-bbd9bf91c743"
      },
      "cell_type": "code",
      "source": [
        "loss = tf.losses.softmax_cross_entropy(y,a_4)\n",
        "sess = tf.Session()\n",
        "\n",
        "optimizer = tf.train.GradientDescentOptimizer(learning_rate=0.1)\n",
        "gradients = optimizer.compute_gradients(loss)\n",
        "step = optimizer.apply_gradients(gradients)\n",
        "\n",
        "sess.run(tf.global_variables_initializer())\n",
        "\n",
        "accuracy = tf.reduce_mean(tf.cast(tf.equal(tf.argmax(y,1),tf.argmax(a_4,1)),tf.float32))\n",
        "\n",
        "for i in range(100):\n",
        "  (_loss,_,train_accuracy) = (sess.run([loss,step,accuracy],feed_dict={x:X_Train,Y:y_train}))\n",
        "  test_accuracy = sess.run([accuracy],feed_dict={x:X_Test,Y:y_test})\n",
        "  print(\"Loss : \" + str(_loss) + \", train_accuracy : \" + str(train_accuracy) + \", test_accuracy : \" + str(test_accuracy))\n"
      ],
      "execution_count": 67,
      "outputs": [
        {
          "output_type": "stream",
          "text": [
            "Loss : 5.8954797, train_accuracy : 0.08251667, test_accuracy : [0.2343]\n",
            "Loss : 14.918872, train_accuracy : 0.24031667, test_accuracy : [0.2444]\n",
            "Loss : 13.109074, train_accuracy : 0.24168333, test_accuracy : [0.2485]\n",
            "Loss : 6.4225736, train_accuracy : 0.2542, test_accuracy : [0.2985]\n",
            "Loss : 3.2043095, train_accuracy : 0.29546666, test_accuracy : [0.5063]\n",
            "Loss : 1.9674332, train_accuracy : 0.50415, test_accuracy : [0.5996]\n",
            "Loss : 1.3237734, train_accuracy : 0.59926665, test_accuracy : [0.693]\n",
            "Loss : 1.0837685, train_accuracy : 0.68661666, test_accuracy : [0.7267]\n",
            "Loss : 0.97194, train_accuracy : 0.7215833, test_accuracy : [0.7495]\n",
            "Loss : 0.88771135, train_accuracy : 0.74635, test_accuracy : [0.7691]\n",
            "Loss : 0.8192022, train_accuracy : 0.7661, test_accuracy : [0.7832]\n",
            "Loss : 0.7627939, train_accuracy : 0.7821, test_accuracy : [0.7983]\n",
            "Loss : 0.7159181, train_accuracy : 0.7948167, test_accuracy : [0.8092]\n",
            "Loss : 0.67664886, train_accuracy : 0.80535, test_accuracy : [0.8193]\n",
            "Loss : 0.64330167, train_accuracy : 0.8143333, test_accuracy : [0.8287]\n",
            "Loss : 0.61467016, train_accuracy : 0.82173336, test_accuracy : [0.8357]\n",
            "Loss : 0.5898421, train_accuracy : 0.82815, test_accuracy : [0.8402]\n",
            "Loss : 0.5680444, train_accuracy : 0.83383334, test_accuracy : [0.8447]\n",
            "Loss : 0.5487542, train_accuracy : 0.8395, test_accuracy : [0.8497]\n",
            "Loss : 0.53156215, train_accuracy : 0.84395, test_accuracy : [0.8546]\n",
            "Loss : 0.5160959, train_accuracy : 0.84753335, test_accuracy : [0.8577]\n",
            "Loss : 0.5020973, train_accuracy : 0.85116667, test_accuracy : [0.8602]\n",
            "Loss : 0.48934716, train_accuracy : 0.8549, test_accuracy : [0.8637]\n",
            "Loss : 0.4776731, train_accuracy : 0.85796666, test_accuracy : [0.8664]\n",
            "Loss : 0.46692306, train_accuracy : 0.8612, test_accuracy : [0.8695]\n",
            "Loss : 0.45698586, train_accuracy : 0.864, test_accuracy : [0.8718]\n",
            "Loss : 0.44775242, train_accuracy : 0.8664333, test_accuracy : [0.8748]\n",
            "Loss : 0.4391343, train_accuracy : 0.8688667, test_accuracy : [0.877]\n",
            "Loss : 0.4310588, train_accuracy : 0.871, test_accuracy : [0.8795]\n",
            "Loss : 0.42347503, train_accuracy : 0.8736167, test_accuracy : [0.8815]\n",
            "Loss : 0.41633695, train_accuracy : 0.87553334, test_accuracy : [0.8831]\n",
            "Loss : 0.40959132, train_accuracy : 0.87773335, test_accuracy : [0.8856]\n",
            "Loss : 0.40320492, train_accuracy : 0.87943333, test_accuracy : [0.8877]\n",
            "Loss : 0.39714292, train_accuracy : 0.8811833, test_accuracy : [0.8888]\n",
            "Loss : 0.3913755, train_accuracy : 0.8826333, test_accuracy : [0.8905]\n",
            "Loss : 0.38587767, train_accuracy : 0.88435, test_accuracy : [0.8917]\n",
            "Loss : 0.3806235, train_accuracy : 0.88625, test_accuracy : [0.8927]\n",
            "Loss : 0.37560183, train_accuracy : 0.88785, test_accuracy : [0.8938]\n",
            "Loss : 0.37080213, train_accuracy : 0.88928336, test_accuracy : [0.8956]\n",
            "Loss : 0.3662008, train_accuracy : 0.89075, test_accuracy : [0.8967]\n",
            "Loss : 0.36178154, train_accuracy : 0.892, test_accuracy : [0.8979]\n",
            "Loss : 0.35753444, train_accuracy : 0.8934, test_accuracy : [0.8993]\n",
            "Loss : 0.35344565, train_accuracy : 0.89465, test_accuracy : [0.9005]\n",
            "Loss : 0.3495021, train_accuracy : 0.89596665, test_accuracy : [0.9015]\n",
            "Loss : 0.3456955, train_accuracy : 0.8969, test_accuracy : [0.9023]\n",
            "Loss : 0.34202453, train_accuracy : 0.89788336, test_accuracy : [0.9034]\n",
            "Loss : 0.33847564, train_accuracy : 0.8989, test_accuracy : [0.9039]\n",
            "Loss : 0.33503848, train_accuracy : 0.8998167, test_accuracy : [0.9041]\n",
            "Loss : 0.3317124, train_accuracy : 0.90056664, test_accuracy : [0.9049]\n",
            "Loss : 0.32849193, train_accuracy : 0.9015167, test_accuracy : [0.9053]\n",
            "Loss : 0.32537195, train_accuracy : 0.9026, test_accuracy : [0.9061]\n",
            "Loss : 0.32234278, train_accuracy : 0.9037, test_accuracy : [0.9065]\n",
            "Loss : 0.31940162, train_accuracy : 0.90465, test_accuracy : [0.9069]\n",
            "Loss : 0.31654194, train_accuracy : 0.90555, test_accuracy : [0.9073]\n",
            "Loss : 0.31376135, train_accuracy : 0.9065, test_accuracy : [0.9082]\n",
            "Loss : 0.31105626, train_accuracy : 0.90725, test_accuracy : [0.9088]\n",
            "Loss : 0.30842236, train_accuracy : 0.908, test_accuracy : [0.9094]\n",
            "Loss : 0.30585834, train_accuracy : 0.90893334, test_accuracy : [0.9101]\n",
            "Loss : 0.30335984, train_accuracy : 0.90973336, test_accuracy : [0.9104]\n",
            "Loss : 0.30092627, train_accuracy : 0.9105167, test_accuracy : [0.9111]\n",
            "Loss : 0.29855287, train_accuracy : 0.9111, test_accuracy : [0.9115]\n",
            "Loss : 0.2962354, train_accuracy : 0.91183335, test_accuracy : [0.912]\n",
            "Loss : 0.29397145, train_accuracy : 0.91263336, test_accuracy : [0.9126]\n",
            "Loss : 0.29175937, train_accuracy : 0.91325, test_accuracy : [0.9129]\n",
            "Loss : 0.2895969, train_accuracy : 0.91393334, test_accuracy : [0.9135]\n",
            "Loss : 0.28748113, train_accuracy : 0.9144167, test_accuracy : [0.9143]\n",
            "Loss : 0.2854106, train_accuracy : 0.9149167, test_accuracy : [0.9153]\n",
            "Loss : 0.2833841, train_accuracy : 0.9156, test_accuracy : [0.9156]\n",
            "Loss : 0.2814011, train_accuracy : 0.9163833, test_accuracy : [0.916]\n",
            "Loss : 0.2794592, train_accuracy : 0.91691667, test_accuracy : [0.9164]\n",
            "Loss : 0.2775554, train_accuracy : 0.9174333, test_accuracy : [0.9172]\n",
            "Loss : 0.27568984, train_accuracy : 0.9180667, test_accuracy : [0.9175]\n",
            "Loss : 0.27386087, train_accuracy : 0.9185333, test_accuracy : [0.9183]\n",
            "Loss : 0.27206856, train_accuracy : 0.91905, test_accuracy : [0.9189]\n",
            "Loss : 0.27031034, train_accuracy : 0.9195167, test_accuracy : [0.9199]\n",
            "Loss : 0.26858473, train_accuracy : 0.92015, test_accuracy : [0.9209]\n",
            "Loss : 0.2668912, train_accuracy : 0.9206333, test_accuracy : [0.9209]\n",
            "Loss : 0.26522762, train_accuracy : 0.9211, test_accuracy : [0.9216]\n",
            "Loss : 0.26359358, train_accuracy : 0.92156667, test_accuracy : [0.9222]\n",
            "Loss : 0.26198947, train_accuracy : 0.92195, test_accuracy : [0.9225]\n",
            "Loss : 0.2604135, train_accuracy : 0.92253333, test_accuracy : [0.9228]\n",
            "Loss : 0.25886598, train_accuracy : 0.92293334, test_accuracy : [0.9235]\n",
            "Loss : 0.25734615, train_accuracy : 0.92325, test_accuracy : [0.9242]\n",
            "Loss : 0.25585112, train_accuracy : 0.92363334, test_accuracy : [0.9244]\n",
            "Loss : 0.25438046, train_accuracy : 0.92406666, test_accuracy : [0.9247]\n",
            "Loss : 0.25293142, train_accuracy : 0.9246167, test_accuracy : [0.9249]\n",
            "Loss : 0.25150684, train_accuracy : 0.92516667, test_accuracy : [0.9253]\n",
            "Loss : 0.25010476, train_accuracy : 0.92571664, test_accuracy : [0.9256]\n",
            "Loss : 0.24872698, train_accuracy : 0.92606664, test_accuracy : [0.9259]\n",
            "Loss : 0.24737109, train_accuracy : 0.92645, test_accuracy : [0.9262]\n",
            "Loss : 0.24603698, train_accuracy : 0.92691666, test_accuracy : [0.9265]\n",
            "Loss : 0.24472378, train_accuracy : 0.92723334, test_accuracy : [0.9268]\n",
            "Loss : 0.24342951, train_accuracy : 0.92766666, test_accuracy : [0.9268]\n",
            "Loss : 0.24215393, train_accuracy : 0.92808336, test_accuracy : [0.9275]\n",
            "Loss : 0.24089661, train_accuracy : 0.92861664, test_accuracy : [0.9278]\n",
            "Loss : 0.23965825, train_accuracy : 0.92905, test_accuracy : [0.9279]\n",
            "Loss : 0.23843835, train_accuracy : 0.9295667, test_accuracy : [0.9278]\n",
            "Loss : 0.237236, train_accuracy : 0.92985, test_accuracy : [0.928]\n",
            "Loss : 0.23605035, train_accuracy : 0.93018335, test_accuracy : [0.9282]\n",
            "Loss : 0.2348813, train_accuracy : 0.93056667, test_accuracy : [0.9283]\n"
          ],
          "name": "stdout"
        }
      ]
    },
    {
      "metadata": {
        "id": "8bBTeg3OqSmK",
        "colab_type": "code",
        "colab": {}
      },
      "cell_type": "code",
      "source": [
        ""
      ],
      "execution_count": 0,
      "outputs": []
    }
  ]
}